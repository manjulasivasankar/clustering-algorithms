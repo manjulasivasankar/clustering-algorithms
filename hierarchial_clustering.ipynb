{
 "cells": [
  {
   "cell_type": "code",
   "execution_count": 1,
   "metadata": {},
   "outputs": [
    {
     "name": "stderr",
     "output_type": "stream",
     "text": [
      "C:\\Users\\ADMIN\\Anaconda3\\lib\\site-packages\\gensim\\utils.py:1197: UserWarning: detected Windows; aliasing chunkize to chunkize_serial\n",
      "  warnings.warn(\"detected Windows; aliasing chunkize to chunkize_serial\")\n"
     ]
    }
   ],
   "source": [
    "import numpy as np\n",
    "import pandas as pd\n",
    "import re, nltk, spacy, gensim\n"
   ]
  },
  {
   "cell_type": "code",
   "execution_count": 3,
   "metadata": {},
   "outputs": [],
   "source": [
    " \n",
    "# Run in terminal or command prompt\n",
    "#python3 -m spacy download en\n",
    "\n",
    " \n",
    "from pprint import pprint\n",
    "\n",
    "\n",
    "from sklearn.cluster import KMeans\n",
    "\n",
    "from sklearn.decomposition import TruncatedSVD\n",
    "\n",
    "# Gensim\n",
    "import gensim\n",
    "import gensim.corpora as corpora\n",
    "from gensim.utils import simple_preprocess\n",
    "from gensim.models import CoherenceModel\n",
    "\n",
    " \n",
    "# Plotting tools\n",
    "#import pyLDAvis\n",
    "import matplotlib.pyplot as plt\n",
    "\n",
    "# NLTK Stop words\n",
    "from nltk.corpus import stopwords\n",
    "stop_words = stopwords.words('english')\n",
    "stop_words.extend(['from', 'subject', 're', 'edu', 'use'])\n",
    "\n"
   ]
  },
  {
   "cell_type": "code",
   "execution_count": 4,
   "metadata": {},
   "outputs": [
    {
     "data": {
      "text/html": [
       "<div>\n",
       "<style scoped>\n",
       "    .dataframe tbody tr th:only-of-type {\n",
       "        vertical-align: middle;\n",
       "    }\n",
       "\n",
       "    .dataframe tbody tr th {\n",
       "        vertical-align: top;\n",
       "    }\n",
       "\n",
       "    .dataframe thead th {\n",
       "        text-align: right;\n",
       "    }\n",
       "</style>\n",
       "<table border=\"1\" class=\"dataframe\">\n",
       "  <thead>\n",
       "    <tr style=\"text-align: right;\">\n",
       "      <th></th>\n",
       "      <th>content</th>\n",
       "    </tr>\n",
       "  </thead>\n",
       "  <tbody>\n",
       "    <tr>\n",
       "      <th>0</th>\n",
       "      <td>Matrix rank based ontology matching: An extens...</td>\n",
       "    </tr>\n",
       "    <tr>\n",
       "      <th>1</th>\n",
       "      <td>Sputtered AZO Thin Films for TCO and Back Refl...</td>\n",
       "    </tr>\n",
       "    <tr>\n",
       "      <th>2</th>\n",
       "      <td>Assessment of natural radioactivity and radiol...</td>\n",
       "    </tr>\n",
       "    <tr>\n",
       "      <th>3</th>\n",
       "      <td>Accelerated rusting of reinforcing bars: The r...</td>\n",
       "    </tr>\n",
       "    <tr>\n",
       "      <th>4</th>\n",
       "      <td>Comparison of phase interaction models for hig...</td>\n",
       "    </tr>\n",
       "  </tbody>\n",
       "</table>\n",
       "</div>"
      ],
      "text/plain": [
       "                                             content\n",
       "0  Matrix rank based ontology matching: An extens...\n",
       "1  Sputtered AZO Thin Films for TCO and Back Refl...\n",
       "2  Assessment of natural radioactivity and radiol...\n",
       "3  Accelerated rusting of reinforcing bars: The r...\n",
       "4  Comparison of phase interaction models for hig..."
      ]
     },
     "execution_count": 4,
     "metadata": {},
     "output_type": "execute_result"
    }
   ],
   "source": [
    "#fp = '/Users/sourish/Documents/Research/Kalapakkam/Manjula/Topic_Model/pubnew.csv'\n",
    "fp = \"F:datasets/pubnew.csv\"\n",
    "df = pd.read_csv(fp)\n",
    "df.head()\n"
   ]
  },
  {
   "cell_type": "code",
   "execution_count": 5,
   "metadata": {},
   "outputs": [
    {
     "name": "stdout",
     "output_type": "stream",
     "text": [
      "['Matrix rank based ontology matching: An extension of string equality '\n",
      " 'matchingIn this article, a string-based algorithm and the analogy of the '\n",
      " 'total number of deviations that exist between two matrices are used for '\n",
      " 'ontology matching. The type of matching and the distance between them are '\n",
      " 'derived from the rank of the matrix. This process is useful for an agent '\n",
      " 'programme to extract the knowledge from the application domain and to '\n",
      " 'evaluate the result of matching to decide whether to include or exclude the '\n",
      " 'ontology. As a case study to demonstrate the developed algorithm, the Fast '\n",
      " 'Breeder Test Reactor (FBTR) is taken for analysis by representing its '\n",
      " 'components, such as the steam generator system and the control rod drive '\n",
      " 'mechanism, in formats such as RDF (Resource Description Framework) and OWL '\n",
      " '(Web Ontology Language).']\n"
     ]
    }
   ],
   "source": [
    " # Convert to list\n",
    "data = df.content.values.tolist()\n",
    "\n",
    "# Remove Emails\n",
    "data = [re.sub('\\S*@\\S*\\s?', '', sent) for sent in data]\n",
    "\n",
    "\n",
    "# Remove new line characters\n",
    "data = [re.sub('\\s+', ' ', sent) for sent in data]\n",
    "\n",
    "\n",
    "# Remove distracting single quotes\n",
    "data = [re.sub(\"\\'\", \"\", sent) for sent in data]\n",
    "\n",
    "\n",
    "pprint(data[:1])"
   ]
  },
  {
   "cell_type": "code",
   "execution_count": 6,
   "metadata": {},
   "outputs": [
    {
     "name": "stdout",
     "output_type": "stream",
     "text": [
      "[['matrix', 'rank', 'based', 'ontology', 'matching', 'an', 'extension', 'of', 'string', 'equality', 'matchingin', 'this', 'article', 'string', 'based', 'algorithm', 'and', 'the', 'analogy', 'of', 'the', 'total', 'number', 'of', 'deviations', 'that', 'exist', 'between', 'two', 'matrices', 'are', 'used', 'for', 'ontology', 'matching', 'the', 'type', 'of', 'matching', 'and', 'the', 'distance', 'between', 'them', 'are', 'derived', 'from', 'the', 'rank', 'of', 'the', 'matrix', 'this', 'process', 'is', 'useful', 'for', 'an', 'agent', 'programme', 'to', 'extract', 'the', 'knowledge', 'from', 'the', 'application', 'domain', 'and', 'to', 'evaluate', 'the', 'result', 'of', 'matching', 'to', 'decide', 'whether', 'to', 'include', 'or', 'exclude', 'the', 'ontology', 'as', 'case', 'study', 'to', 'demonstrate', 'the', 'developed', 'algorithm', 'the', 'fast', 'breeder', 'test', 'reactor', 'fbtr', 'is', 'taken', 'for', 'analysis', 'by', 'representing', 'its', 'components', 'such', 'as', 'the', 'steam', 'generator', 'system', 'and', 'the', 'control', 'rod', 'drive', 'mechanism', 'in', 'formats', 'such', 'as', 'rdf', 'resource', 'description', 'framework', 'and', 'owl', 'web', 'ontology', 'language']]\n"
     ]
    }
   ],
   "source": [
    "\n",
    "'''Tokenize words and Clean-up text'''\n",
    "\n",
    "def sent_to_words(sentences):\n",
    "    for sentence in sentences:\n",
    "        yield(gensim.utils.simple_preprocess(str(sentence), deacc=True))  \n",
    "        # deacc=True removes punctuations\n",
    "        \n",
    "data_words = list(sent_to_words(data))\n",
    "\n",
    "print(data_words[:1])\n"
   ]
  },
  {
   "cell_type": "code",
   "execution_count": 7,
   "metadata": {},
   "outputs": [
    {
     "name": "stderr",
     "output_type": "stream",
     "text": [
      "C:\\Users\\ADMIN\\Anaconda3\\lib\\site-packages\\gensim\\models\\phrases.py:494: UserWarning: For a faster implementation, use the gensim.models.phrases.Phraser class\n",
      "  warnings.warn(\"For a faster implementation, use the gensim.models.phrases.Phraser class\")\n"
     ]
    }
   ],
   "source": [
    "\n",
    "# Build the bigram and trigram models\n",
    "bigram = gensim.models.Phrases(data_words, min_count=5, threshold=100) # higher threshold fewer phrases.\n",
    "trigram = gensim.models.Phrases(bigram[data_words], threshold=100)  \n"
   ]
  },
  {
   "cell_type": "code",
   "execution_count": 8,
   "metadata": {},
   "outputs": [
    {
     "name": "stdout",
     "output_type": "stream",
     "text": [
      "['matrix', 'rank', 'based', 'ontology', 'matching', 'an', 'extension', 'of', 'string', 'equality', 'matchingin', 'this', 'article', 'string', 'based', 'algorithm', 'and', 'the', 'analogy', 'of', 'the', 'total', 'number', 'of', 'deviations', 'that', 'exist', 'between', 'two', 'matrices', 'are', 'used', 'for', 'ontology', 'matching', 'the', 'type', 'of', 'matching', 'and', 'the', 'distance', 'between', 'them', 'are', 'derived', 'from', 'the', 'rank', 'of', 'the', 'matrix', 'this', 'process', 'is', 'useful', 'for', 'an', 'agent', 'programme', 'to', 'extract', 'the', 'knowledge', 'from', 'the', 'application', 'domain', 'and', 'to', 'evaluate', 'the', 'result', 'of', 'matching', 'to', 'decide', 'whether', 'to', 'include', 'or', 'exclude', 'the', 'ontology', 'as', 'case', 'study', 'to', 'demonstrate', 'the', 'developed', 'algorithm', 'the', 'fast_breeder_test', 'reactor_fbtr', 'is', 'taken', 'for', 'analysis', 'by', 'representing', 'its', 'components', 'such', 'as', 'the', 'steam', 'generator', 'system', 'and', 'the', 'control', 'rod', 'drive', 'mechanism', 'in', 'formats', 'such', 'as', 'rdf', 'resource', 'description', 'framework', 'and', 'owl', 'web', 'ontology', 'language']\n"
     ]
    }
   ],
   "source": [
    "# Faster way to get a sentence clubbed as a trigram/bigram\n",
    "bigram_mod = gensim.models.phrases.Phraser(bigram)\n",
    "trigram_mod = gensim.models.phrases.Phraser(trigram)\n",
    "\n",
    "# See trigram example\n",
    "print(trigram_mod[bigram_mod[data_words[0]]])\n"
   ]
  },
  {
   "cell_type": "code",
   "execution_count": 9,
   "metadata": {},
   "outputs": [],
   "source": [
    "'''Remove Stopwords, Make Bigrams and Lemmatize'''\n",
    "\n",
    "# Define functions for stopwords, bigrams, trigrams and lemmatization\n",
    "def remove_stopwords(texts):\n",
    "    return [[word for word in simple_preprocess(str(doc)) if word not in stop_words] for doc in texts]\n",
    "\n",
    "def make_bigrams(texts):\n",
    "    return [bigram_mod[doc] for doc in texts]\n",
    "\n",
    "def make_trigrams(texts):\n",
    "    return [trigram_mod[bigram_mod[doc]] for doc in texts]\n",
    "\n",
    "def lemmatization(texts, allowed_postags=['NOUN', 'ADJ', 'VERB', 'ADV']):\n",
    "    \"\"\"https://spacy.io/api/annotation\"\"\"\n",
    "    texts_out = []\n",
    "    for sent in texts:\n",
    "        doc = nlp(\" \".join(sent)) \n",
    "        texts_out.append([token.lemma_ for token in doc if token.pos_ in allowed_postags])\n",
    "    return texts_out"
   ]
  },
  {
   "cell_type": "code",
   "execution_count": 34,
   "metadata": {},
   "outputs": [],
   "source": [
    "# Remove Stop Words\n",
    "data_words_nostops = remove_stopwords(data_words)\n",
    "\n",
    "\n",
    "# Form Bigrams\n",
    "data_words_bigrams = make_bigrams(data_words_nostops)\n",
    "\n",
    "\n",
    "# Initialize spacy 'en' model, keeping only tagger component (for efficiency)\n",
    "# python3 -m spacy download en\n",
    "nlp = spacy.load('en', disable=['parser', 'ner'])\n",
    "#nlp = spacy.load(\"en_core_web_sm\")\n",
    "\n",
    "# Do lemmatization keeping only noun, adj, vb, adv\n",
    "data_lemmatized = lemmatization(data_words_bigrams, allowed_postags=['NOUN', 'ADJ', 'VERB', 'ADV'])\n",
    "\n",
    "\n",
    "# Create Dictionary\n",
    "id2word = corpora.Dictionary(data_lemmatized)\n"
   ]
  },
  {
   "cell_type": "code",
   "execution_count": 35,
   "metadata": {},
   "outputs": [],
   "source": [
    "# Create Corpus\n",
    "#texts = data_words_bigrams\n",
    "texts = data_lemmatized\n",
    "\n",
    "# Term Document Frequency\n",
    "\n",
    "corpus = [id2word.doc2bow(text) for text in texts]\n"
   ]
  },
  {
   "cell_type": "code",
   "execution_count": 36,
   "metadata": {},
   "outputs": [
    {
     "name": "stdout",
     "output_type": "stream",
     "text": [
      "[[(0, 1), (1, 2), (2, 1), (3, 1), (4, 1), (5, 1), (6, 2), (7, 1), (8, 1), (9, 1), (10, 1), (11, 1), (12, 1), (13, 1), (14, 1), (15, 1), (16, 1), (17, 1), (18, 1), (19, 1), (20, 1), (21, 1), (22, 1), (23, 1), (24, 1), (25, 1), (26, 1), (27, 1), (28, 1), (29, 1), (30, 1), (31, 1), (32, 2), (33, 2), (34, 1), (35, 3), (36, 1), (37, 1), (38, 4), (39, 1), (40, 1), (41, 1), (42, 2), (43, 1), (44, 1), (45, 1), (46, 1), (47, 1), (48, 1), (49, 2), (50, 1), (51, 1), (52, 1), (53, 1), (54, 1), (55, 1), (56, 1), (57, 1), (58, 1)]]\n"
     ]
    },
    {
     "data": {
      "text/plain": [
       "[[('agent', 1),\n",
       "  ('algorithm', 2),\n",
       "  ('analogy', 1),\n",
       "  ('analysis', 1),\n",
       "  ('application', 1),\n",
       "  ('article', 1),\n",
       "  ('base', 2),\n",
       "  ('case', 1),\n",
       "  ('component', 1),\n",
       "  ('control', 1),\n",
       "  ('decide', 1),\n",
       "  ('demonstrate', 1),\n",
       "  ('derive', 1),\n",
       "  ('description', 1),\n",
       "  ('develop', 1),\n",
       "  ('deviation', 1),\n",
       "  ('distance', 1),\n",
       "  ('domain', 1),\n",
       "  ('drive', 1),\n",
       "  ('equality', 1),\n",
       "  ('evaluate', 1),\n",
       "  ('exclude', 1),\n",
       "  ('exist', 1),\n",
       "  ('extension', 1),\n",
       "  ('extract', 1),\n",
       "  ('fast_breeder', 1),\n",
       "  ('format', 1),\n",
       "  ('framework', 1),\n",
       "  ('generator', 1),\n",
       "  ('include', 1),\n",
       "  ('knowledge', 1),\n",
       "  ('language', 1),\n",
       "  ('match', 2),\n",
       "  ('matching', 2),\n",
       "  ('matchingin', 1),\n",
       "  ('matrix', 3),\n",
       "  ('mechanism', 1),\n",
       "  ('number', 1),\n",
       "  ('ontology', 4),\n",
       "  ('owl', 1),\n",
       "  ('process', 1),\n",
       "  ('programme', 1),\n",
       "  ('rank', 2),\n",
       "  ('rdf', 1),\n",
       "  ('represent', 1),\n",
       "  ('resource', 1),\n",
       "  ('result', 1),\n",
       "  ('rod', 1),\n",
       "  ('steam', 1),\n",
       "  ('string', 2),\n",
       "  ('study', 1),\n",
       "  ('system', 1),\n",
       "  ('take', 1),\n",
       "  ('test', 1),\n",
       "  ('total', 1),\n",
       "  ('type', 1),\n",
       "  ('use', 1),\n",
       "  ('useful', 1),\n",
       "  ('web', 1)]]"
      ]
     },
     "execution_count": 36,
     "metadata": {},
     "output_type": "execute_result"
    }
   ],
   "source": [
    "# View\n",
    "print(corpus[:1])\n",
    "\n",
    "id2word[0]\n",
    "\n",
    "# Human readable format of corpus (term-frequency)\n",
    "[[(id2word[id], freq) for id, freq in cp] for cp in corpus[:1]]\n"
   ]
  },
  {
   "cell_type": "code",
   "execution_count": 37,
   "metadata": {},
   "outputs": [],
   "source": [
    "\n",
    "''' find the optimal number of topics for LDA'''\n",
    "\n",
    "def compute_coherence_values(dictionary, corpus, texts, limit, start=2, step=3):\n",
    "    \"\"\"\n",
    "    Compute c_v coherence for various number of topics\n",
    "\n",
    "    Parameters:\n",
    "    ----------\n",
    "    dictionary : Gensim dictionary\n",
    "    corpus : Gensim corpus\n",
    "    texts : List of input texts\n",
    "    limit : Max num of topics\n",
    "\n",
    "    Returns:\n",
    "    -------\n",
    "    model_list : List of LDA topic models\n",
    "    coherence_values : Coherence values corresponding to the LDA model with respective number of topics\n",
    "    \"\"\"\n",
    "    coherence_values = []\n",
    "    model_list = []\n",
    "    for num_topics in range(start, limit, step):\n",
    "        model = gensim.models.ldamodel.LdaModel( corpus=corpus\n",
    "                                                ,num_topics=num_topics\n",
    "                                                ,id2word=id2word\n",
    "                                                ,random_state=100\n",
    "                                                ,update_every=1\n",
    "                                                ,chunksize=100\n",
    "                                                ,passes=10\n",
    "                                                ,iterations=50000\n",
    "                                                ,alpha='auto'\n",
    "                                                ,per_word_topics=True)\n",
    "        model_list.append(model)\n",
    "        coherencemodel = CoherenceModel(model=model, texts=texts, dictionary=dictionary, coherence='c_v')\n",
    "        coherence_values.append(coherencemodel.get_coherence())\n",
    "\n",
    "    return model_list, coherence_values\n"
   ]
  },
  {
   "cell_type": "code",
   "execution_count": 38,
   "metadata": {},
   "outputs": [
    {
     "data": {
      "image/png": "[encoded data removed]",
      "text/plain": [
       "<Figure size 432x288 with 1 Axes>"
      ]
     },
     "metadata": {
      "needs_background": "light"
     },
     "output_type": "display_data"
    }
   ],
   "source": [
    "# Can take a long time to run.\n",
    "model_list, coherence_values = compute_coherence_values(dictionary=id2word\n",
    "                                                        , corpus=corpus\n",
    "                                                        , texts=texts\n",
    "                                                        , start=2, limit=25, step=1)\n",
    "\n",
    "# Show graph\n",
    "limit=25; start=2; step=1;\n",
    "x = range(start, limit, step)\n",
    "plt.plot(x, coherence_values)\n",
    "plt.xlabel(\"Num Topics\")\n",
    "plt.ylabel(\"Coherence score\")\n",
    "plt.legend((\"coherence_values\"), loc='best')\n",
    "plt.show()"
   ]
  },
  {
   "cell_type": "code",
   "execution_count": 16,
   "metadata": {},
   "outputs": [
    {
     "name": "stdout",
     "output_type": "stream",
     "text": [
      "Num Topics = 2  has Coherence Value of 0.3271\n",
      "Num Topics = 3  has Coherence Value of 0.3281\n",
      "Num Topics = 4  has Coherence Value of 0.3147\n",
      "Num Topics = 5  has Coherence Value of 0.4096\n",
      "Num Topics = 6  has Coherence Value of 0.3257\n",
      "Num Topics = 7  has Coherence Value of 0.2997\n",
      "Num Topics = 8  has Coherence Value of 0.333\n",
      "Num Topics = 9  has Coherence Value of 0.3595\n",
      "Num Topics = 10  has Coherence Value of 0.3386\n",
      "Num Topics = 11  has Coherence Value of 0.3721\n",
      "Num Topics = 12  has Coherence Value of 0.3543\n",
      "Num Topics = 13  has Coherence Value of 0.4139\n",
      "Num Topics = 14  has Coherence Value of 0.3406\n",
      "Num Topics = 15  has Coherence Value of 0.3696\n",
      "Num Topics = 16  has Coherence Value of 0.347\n",
      "Num Topics = 17  has Coherence Value of 0.369\n",
      "Num Topics = 18  has Coherence Value of 0.4029\n",
      "Num Topics = 19  has Coherence Value of 0.3649\n",
      "Num Topics = 20  has Coherence Value of 0.4006\n",
      "Num Topics = 21  has Coherence Value of 0.3752\n",
      "Num Topics = 22  has Coherence Value of 0.4003\n",
      "Num Topics = 23  has Coherence Value of 0.4105\n",
      "Num Topics = 24  has Coherence Value of 0.4043\n"
     ]
    }
   ],
   "source": [
    "# Print the coherence scores\n",
    "for m, cv in zip(x, coherence_values):\n",
    "    print(\"Num Topics =\", m, \" has Coherence Value of\", round(cv, 4))\n"
   ]
  },
  {
   "cell_type": "code",
   "execution_count": 17,
   "metadata": {},
   "outputs": [],
   "source": [
    "# number of toics with optimal coherence value\n",
    "num_top = 20\n",
    "lda_model = gensim.models.ldamodel.LdaModel(corpus=corpus,\n",
    "                                           id2word=id2word,\n",
    "                                           num_topics=num_top, \n",
    "                                           random_state=100,\n",
    "                                           update_every=1,\n",
    "                                           chunksize=100,\n",
    "                                           passes=10,\n",
    "                                           iterations=50000,\n",
    "                                           alpha='auto',\n",
    "                                           per_word_topics=True)\n"
   ]
  },
  {
   "cell_type": "code",
   "execution_count": 32,
   "metadata": {},
   "outputs": [
    {
     "name": "stdout",
     "output_type": "stream",
     "text": [
      "[(0, 0.0015327351), (1, 0.0008789654), (2, 0.0016328131), (3, 0.0010667872), (4, 0.946124), (5, 0.0011645064), (6, 0.009527861), (7, 0.0027529318), (8, 0.0008836276), (9, 0.0017879317), (10, 0.0009940019), (11, 0.0028532557), (12, 0.002380588), (13, 0.0014007554), (14, 0.0025543885), (15, 0.0021228006), (16, 0.0018935599), (17, 0.0146801835), (18, 0.0025484418), (19, 0.0012198875)]\n"
     ]
    },
    {
     "data": {
      "text/html": [
       "<div>\n",
       "<style scoped>\n",
       "    .dataframe tbody tr th:only-of-type {\n",
       "        vertical-align: middle;\n",
       "    }\n",
       "\n",
       "    .dataframe tbody tr th {\n",
       "        vertical-align: top;\n",
       "    }\n",
       "\n",
       "    .dataframe thead th {\n",
       "        text-align: right;\n",
       "    }\n",
       "</style>\n",
       "<table border=\"1\" class=\"dataframe\">\n",
       "  <thead>\n",
       "    <tr style=\"text-align: right;\">\n",
       "      <th></th>\n",
       "      <th>prob_topic_1</th>\n",
       "      <th>prob_topic_2</th>\n",
       "      <th>prob_topic_3</th>\n",
       "      <th>prob_topic_4</th>\n",
       "      <th>prob_topic_5</th>\n",
       "      <th>prob_topic_6</th>\n",
       "      <th>prob_topic_7</th>\n",
       "      <th>prob_topic_8</th>\n",
       "      <th>prob_topic_9</th>\n",
       "      <th>prob_topic_10</th>\n",
       "      <th>prob_topic_11</th>\n",
       "      <th>prob_topic_12</th>\n",
       "      <th>prob_topic_13</th>\n",
       "      <th>prob_topic_14</th>\n",
       "      <th>prob_topic_15</th>\n",
       "      <th>prob_topic_16</th>\n",
       "      <th>prob_topic_17</th>\n",
       "      <th>prob_topic_18</th>\n",
       "      <th>prob_topic_19</th>\n",
       "      <th>prob_topic_20</th>\n",
       "    </tr>\n",
       "  </thead>\n",
       "  <tbody>\n",
       "    <tr>\n",
       "      <th>Doc_1</th>\n",
       "      <td>0.001758</td>\n",
       "      <td>0.753383</td>\n",
       "      <td>0.001876</td>\n",
       "      <td>0.001224</td>\n",
       "      <td>0.017613</td>\n",
       "      <td>0.001336</td>\n",
       "      <td>0.008408</td>\n",
       "      <td>0.003312</td>\n",
       "      <td>0.001014</td>\n",
       "      <td>0.002051</td>\n",
       "      <td>0.001140</td>\n",
       "      <td>0.003287</td>\n",
       "      <td>0.002750</td>\n",
       "      <td>0.001606</td>\n",
       "      <td>0.002958</td>\n",
       "      <td>0.002436</td>\n",
       "      <td>0.002170</td>\n",
       "      <td>0.187156</td>\n",
       "      <td>0.003120</td>\n",
       "      <td>0.001399</td>\n",
       "    </tr>\n",
       "    <tr>\n",
       "      <th>Doc_2</th>\n",
       "      <td>0.001533</td>\n",
       "      <td>0.000879</td>\n",
       "      <td>0.001633</td>\n",
       "      <td>0.001067</td>\n",
       "      <td>0.946130</td>\n",
       "      <td>0.001165</td>\n",
       "      <td>0.009525</td>\n",
       "      <td>0.002753</td>\n",
       "      <td>0.000884</td>\n",
       "      <td>0.001788</td>\n",
       "      <td>0.000994</td>\n",
       "      <td>0.002853</td>\n",
       "      <td>0.002381</td>\n",
       "      <td>0.001401</td>\n",
       "      <td>0.002554</td>\n",
       "      <td>0.002123</td>\n",
       "      <td>0.001894</td>\n",
       "      <td>0.014680</td>\n",
       "      <td>0.002548</td>\n",
       "      <td>0.001220</td>\n",
       "    </tr>\n",
       "    <tr>\n",
       "      <th>Doc_3</th>\n",
       "      <td>0.000903</td>\n",
       "      <td>0.000517</td>\n",
       "      <td>0.000961</td>\n",
       "      <td>0.054635</td>\n",
       "      <td>0.009030</td>\n",
       "      <td>0.000685</td>\n",
       "      <td>0.004724</td>\n",
       "      <td>0.001626</td>\n",
       "      <td>0.000520</td>\n",
       "      <td>0.001051</td>\n",
       "      <td>0.000585</td>\n",
       "      <td>0.001686</td>\n",
       "      <td>0.001408</td>\n",
       "      <td>0.622759</td>\n",
       "      <td>0.012758</td>\n",
       "      <td>0.001252</td>\n",
       "      <td>0.001113</td>\n",
       "      <td>0.281505</td>\n",
       "      <td>0.001560</td>\n",
       "      <td>0.000718</td>\n",
       "    </tr>\n",
       "    <tr>\n",
       "      <th>Doc_4</th>\n",
       "      <td>0.005095</td>\n",
       "      <td>0.002923</td>\n",
       "      <td>0.005425</td>\n",
       "      <td>0.003547</td>\n",
       "      <td>0.030820</td>\n",
       "      <td>0.003872</td>\n",
       "      <td>0.019873</td>\n",
       "      <td>0.009109</td>\n",
       "      <td>0.002938</td>\n",
       "      <td>0.005939</td>\n",
       "      <td>0.003305</td>\n",
       "      <td>0.009480</td>\n",
       "      <td>0.007879</td>\n",
       "      <td>0.698253</td>\n",
       "      <td>0.126012</td>\n",
       "      <td>0.007800</td>\n",
       "      <td>0.006393</td>\n",
       "      <td>0.038748</td>\n",
       "      <td>0.008536</td>\n",
       "      <td>0.004056</td>\n",
       "    </tr>\n",
       "    <tr>\n",
       "      <th>Doc_5</th>\n",
       "      <td>0.000962</td>\n",
       "      <td>0.000551</td>\n",
       "      <td>0.001023</td>\n",
       "      <td>0.000669</td>\n",
       "      <td>0.024399</td>\n",
       "      <td>0.000730</td>\n",
       "      <td>0.047566</td>\n",
       "      <td>0.001726</td>\n",
       "      <td>0.000554</td>\n",
       "      <td>0.001123</td>\n",
       "      <td>0.000623</td>\n",
       "      <td>0.001805</td>\n",
       "      <td>0.001493</td>\n",
       "      <td>0.864084</td>\n",
       "      <td>0.001610</td>\n",
       "      <td>0.001336</td>\n",
       "      <td>0.001189</td>\n",
       "      <td>0.046152</td>\n",
       "      <td>0.001614</td>\n",
       "      <td>0.000765</td>\n",
       "    </tr>\n",
       "  </tbody>\n",
       "</table>\n",
       "</div>"
      ],
      "text/plain": [
       "       prob_topic_1  prob_topic_2  prob_topic_3  prob_topic_4  prob_topic_5  \\\n",
       "Doc_1      0.001758      0.753383      0.001876      0.001224      0.017613   \n",
       "Doc_2      0.001533      0.000879      0.001633      0.001067      0.946130   \n",
       "Doc_3      0.000903      0.000517      0.000961      0.054635      0.009030   \n",
       "Doc_4      0.005095      0.002923      0.005425      0.003547      0.030820   \n",
       "Doc_5      0.000962      0.000551      0.001023      0.000669      0.024399   \n",
       "\n",
       "       prob_topic_6  prob_topic_7  prob_topic_8  prob_topic_9  prob_topic_10  \\\n",
       "Doc_1      0.001336      0.008408      0.003312      0.001014       0.002051   \n",
       "Doc_2      0.001165      0.009525      0.002753      0.000884       0.001788   \n",
       "Doc_3      0.000685      0.004724      0.001626      0.000520       0.001051   \n",
       "Doc_4      0.003872      0.019873      0.009109      0.002938       0.005939   \n",
       "Doc_5      0.000730      0.047566      0.001726      0.000554       0.001123   \n",
       "\n",
       "       prob_topic_11  prob_topic_12  prob_topic_13  prob_topic_14  \\\n",
       "Doc_1       0.001140       0.003287       0.002750       0.001606   \n",
       "Doc_2       0.000994       0.002853       0.002381       0.001401   \n",
       "Doc_3       0.000585       0.001686       0.001408       0.622759   \n",
       "Doc_4       0.003305       0.009480       0.007879       0.698253   \n",
       "Doc_5       0.000623       0.001805       0.001493       0.864084   \n",
       "\n",
       "       prob_topic_15  prob_topic_16  prob_topic_17  prob_topic_18  \\\n",
       "Doc_1       0.002958       0.002436       0.002170       0.187156   \n",
       "Doc_2       0.002554       0.002123       0.001894       0.014680   \n",
       "Doc_3       0.012758       0.001252       0.001113       0.281505   \n",
       "Doc_4       0.126012       0.007800       0.006393       0.038748   \n",
       "Doc_5       0.001610       0.001336       0.001189       0.046152   \n",
       "\n",
       "       prob_topic_19  prob_topic_20  \n",
       "Doc_1       0.003120       0.001399  \n",
       "Doc_2       0.002548       0.001220  \n",
       "Doc_3       0.001560       0.000718  \n",
       "Doc_4       0.008536       0.004056  \n",
       "Doc_5       0.001614       0.000765  "
      ]
     },
     "execution_count": 32,
     "metadata": {},
     "output_type": "execute_result"
    }
   ],
   "source": [
    "## topics prob for each documents\n",
    "doc = lda_model.get_document_topics(corpus,minimum_probability=0)\n",
    "#print(doc[1])\n",
    "\n",
    "\n",
    "n = df.shape[0]\n",
    "\n",
    "doc_topic_prob = np.zeros((n,num_top))\n",
    "for i in range(0,n,1):\n",
    "    for j in range(0,num_top,1):\n",
    "        doc_topic_prob[i,j]  = doc[i][j][1]\n",
    "        \n",
    "# Make the pandas dataframe\n",
    "#df_document_topic = pd.DataFrame(np.round(lda_output, 2), columns=topicnames, index=docnames)\n",
    "\n",
    "cols = ['prob_topic_' + str(i+1) for i in range(num_top)]\n",
    "docnames = ['Doc_' + str(j+1) for j in range(len(data))]\n",
    "doc_topic_prob_df.columns = cols\n",
    "doc_topic_prob_df.index = docnames\n",
    "\n",
    "doc_topic_prob_df = pd.DataFrame((doc_topic_prob),columns=cols, index=docnames)\n",
    "doc_topic_prob_df.head()"
   ]
  },
  {
   "cell_type": "code",
   "execution_count": 33,
   "metadata": {},
   "outputs": [
    {
     "data": {
      "image/png": "[encoded data removed]",
      "text/plain": [
       "<Figure size 720x504 with 1 Axes>"
      ]
     },
     "metadata": {
      "needs_background": "light"
     },
     "output_type": "display_data"
    }
   ],
   "source": [
    "###\n",
    "doc_topic_prob_df_trans = np.transpose(doc_topic_prob_df)\n",
    "\n",
    "import scipy.cluster.hierarchy as shc\n",
    "\n",
    "plt.figure(figsize=(10, 7))  \n",
    "plt.title(\"Topic Dendograms\")  \n",
    "dend = shc.dendrogram(shc.linkage(doc_topic_prob_df_trans\n",
    "                                  , method='ward'),leaf_rotation=0)  \n"
   ]
  },
  {
   "cell_type": "code",
   "execution_count": 22,
   "metadata": {},
   "outputs": [
    {
     "data": {
      "text/plain": [
       "' material, molten, melt, stainless_steel'"
      ]
     },
     "execution_count": 22,
     "metadata": {},
     "output_type": "execute_result"
    }
   ],
   "source": [
    "#!/usr/bin/env python2\n",
    "\n",
    "## top keywords for each topic\n",
    "lda_model.get_topic_terms(topicid=0)\n",
    "id2word[159]\n",
    "id2word[1805]\n",
    "id2word[1713]\n",
    "id2word[2334]\n",
    "\"\"\" material, molten, melt, stainless_steel\"\"\"\n",
    "\n",
    "\n",
    "\n",
    "\n"
   ]
  },
  {
   "cell_type": "code",
   "execution_count": 20,
   "metadata": {},
   "outputs": [
    {
     "data": {
      "text/plain": [
       "' growth, optical, property, structural, tio '"
      ]
     },
     "execution_count": 20,
     "metadata": {},
     "output_type": "execute_result"
    }
   ],
   "source": [
    "lda_model.get_topic_terms(topicid=1)\n",
    "id2word[1735]\n",
    "id2word[86]\n",
    "id2word[90]\n",
    "id2word[101]\n",
    "id2word[1905]\n",
    "\"\"\" growth, optical, property, structural, tio \"\"\"\n"
   ]
  },
  {
   "cell_type": "code",
   "execution_count": 21,
   "metadata": {},
   "outputs": [
    {
     "data": {
      "text/plain": [
       "'grow'"
      ]
     },
     "execution_count": 21,
     "metadata": {},
     "output_type": "execute_result"
    }
   ],
   "source": [
    "lda_model.get_topic_terms(topicid=6)\n",
    "id2word[266]\n",
    "id2word[253]\n",
    "id2word[350]\n",
    "id2word[1200]\n",
    "id2word[82]"
   ]
  },
  {
   "cell_type": "code",
   "execution_count": null,
   "metadata": {},
   "outputs": [],
   "source": []
  }
 ],
 "metadata": {
  "kernelspec": {
   "display_name": "Python 3",
   "language": "python",
   "name": "python3"
  },
  "language_info": {
   "codemirror_mode": {
    "name": "ipython",
    "version": 3
   },
   "file_extension": ".py",
   "mimetype": "text/x-python",
   "name": "python",
   "nbconvert_exporter": "python",
   "pygments_lexer": "ipython3",
   "version": "3.6.8"
  }
 },
 "nbformat": 4,
 "nbformat_minor": 2
}
